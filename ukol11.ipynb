{
 "cells": [
  {
   "attachments": {},
   "cell_type": "markdown",
   "metadata": {},
   "source": [
    "***Úkol 11***"
   ]
  },
  {
   "cell_type": "code",
   "execution_count": 14,
   "metadata": {},
   "outputs": [],
   "source": [
    "import pandas\n",
    "import matplotlib.pyplot as plt"
   ]
  },
  {
   "cell_type": "code",
   "execution_count": 15,
   "metadata": {},
   "outputs": [],
   "source": [
    "platy = pandas.read_csv(\"platy_2021_02.csv\")"
   ]
  },
  {
   "cell_type": "code",
   "execution_count": 38,
   "metadata": {},
   "outputs": [
    {
     "data": {
      "text/plain": [
       "<Axes: title={'center': 'Výše platů'}, ylabel='Frequency'>"
      ]
     },
     "execution_count": 38,
     "metadata": {},
     "output_type": "execute_result"
    },
    {
     "data": {
      "image/png": "[encoded data removed]",
      "text/plain": [
       "<Figure size 640x480 with 1 Axes>"
      ]
     },
     "metadata": {},
     "output_type": "display_data"
    }
   ],
   "source": [
    "platy[\"plat\"].plot(kind=\"hist\", grid=True, color=\"blue\", title=\"Výše platů\", bins=[30000,35000,40000,45000,50000,55000,60000])\n"
   ]
  },
  {
   "attachments": {},
   "cell_type": "markdown",
   "metadata": {},
   "source": [
    "* Bonus"
   ]
  },
  {
   "cell_type": "code",
   "execution_count": 58,
   "metadata": {},
   "outputs": [],
   "source": [
    "teploty = pandas.read_csv(\"temperature.csv\")"
   ]
  },
  {
   "cell_type": "code",
   "execution_count": 132,
   "metadata": {},
   "outputs": [],
   "source": [
    "helsinkycondition = (teploty[\"City\"]==\"Helsinki\")\n",
    "helsinky = teploty[helsinkycondition]\n",
    "helsinkyclear = helsinky[[\"City\",\"AvgTemperature\"]]\n",
    "helsinkyclear = helsinkyclear.reset_index()\n",
    "helsinkyclear = helsinkyclear.rename(columns=({\"AvgTemperature\":\"Helsinki\"}))\n",
    "\n",
    "\n"
   ]
  },
  {
   "cell_type": "code",
   "execution_count": 94,
   "metadata": {},
   "outputs": [],
   "source": [
    "miamicondition = (teploty[\"City\"]==\"Miami Beach\")\n",
    "mi = teploty[miamicondition]\n",
    "miclear = mi[[\"City\",\"AvgTemperature\"]]\n",
    "miclear = miclear.reset_index()\n",
    "miclear = miclear.rename(columns=({\"AvgTemperature\":\"Miami Beach\"}))\n"
   ]
  },
  {
   "cell_type": "code",
   "execution_count": 98,
   "metadata": {},
   "outputs": [],
   "source": [
    "tokyocondition = (teploty[\"City\"]==\"Tokyo\")\n",
    "to = teploty[tokyocondition]\n",
    "toclear = to[[\"City\",\"AvgTemperature\"]]\n",
    "toclear = toclear.reset_index()\n",
    "toclear = toclear.rename(columns=({\"AvgTemperature\":\"Tokyo\"}))\n",
    "\n"
   ]
  },
  {
   "cell_type": "code",
   "execution_count": 129,
   "metadata": {},
   "outputs": [],
   "source": [
    "data = toclear[[\"Tokyo\"]]"
   ]
  },
  {
   "cell_type": "code",
   "execution_count": 130,
   "metadata": {},
   "outputs": [
    {
     "name": "stderr",
     "output_type": "stream",
     "text": [
      "C:\\Users\\U40175012\\AppData\\Local\\Temp\\ipykernel_9588\\1886509528.py:1: SettingWithCopyWarning: \n",
      "A value is trying to be set on a copy of a slice from a DataFrame.\n",
      "Try using .loc[row_indexer,col_indexer] = value instead\n",
      "\n",
      "See the caveats in the documentation: https://pandas.pydata.org/pandas-docs/stable/user_guide/indexing.html#returning-a-view-versus-a-copy\n",
      "  data[\"Helsinki\"]= helsinkyclear[\"Helsinki\"]\n"
     ]
    }
   ],
   "source": [
    "data[\"Helsinki\"]= helsinkyclear[\"Helsinki\"]\n",
    "data[\"Miami Beach\"] = miclear[\"Miami Beach\"]"
   ]
  },
  {
   "cell_type": "code",
   "execution_count": 131,
   "metadata": {},
   "outputs": [
    {
     "data": {
      "text/html": [
       "<div>\n",
       "<style scoped>\n",
       "    .dataframe tbody tr th:only-of-type {\n",
       "        vertical-align: middle;\n",
       "    }\n",
       "\n",
       "    .dataframe tbody tr th {\n",
       "        vertical-align: top;\n",
       "    }\n",
       "\n",
       "    .dataframe thead th {\n",
       "        text-align: right;\n",
       "    }\n",
       "</style>\n",
       "<table border=\"1\" class=\"dataframe\">\n",
       "  <thead>\n",
       "    <tr style=\"text-align: right;\">\n",
       "      <th></th>\n",
       "      <th>Tokyo</th>\n",
       "      <th>Helsinki</th>\n",
       "      <th>Miami Beach</th>\n",
       "    </tr>\n",
       "  </thead>\n",
       "  <tbody>\n",
       "    <tr>\n",
       "      <th>0</th>\n",
       "      <td>59.1</td>\n",
       "      <td>29.6</td>\n",
       "      <td>74.6</td>\n",
       "    </tr>\n",
       "    <tr>\n",
       "      <th>1</th>\n",
       "      <td>62.3</td>\n",
       "      <td>29.5</td>\n",
       "      <td>76.8</td>\n",
       "    </tr>\n",
       "    <tr>\n",
       "      <th>2</th>\n",
       "      <td>64.1</td>\n",
       "      <td>35.1</td>\n",
       "      <td>77.4</td>\n",
       "    </tr>\n",
       "    <tr>\n",
       "      <th>3</th>\n",
       "      <td>59.6</td>\n",
       "      <td>44.5</td>\n",
       "      <td>77.4</td>\n",
       "    </tr>\n",
       "    <tr>\n",
       "      <th>4</th>\n",
       "      <td>57.0</td>\n",
       "      <td>45.5</td>\n",
       "      <td>77.2</td>\n",
       "    </tr>\n",
       "    <tr>\n",
       "      <th>5</th>\n",
       "      <td>60.4</td>\n",
       "      <td>43.8</td>\n",
       "      <td>78.6</td>\n",
       "    </tr>\n",
       "    <tr>\n",
       "      <th>6</th>\n",
       "      <td>64.0</td>\n",
       "      <td>36.0</td>\n",
       "      <td>78.8</td>\n",
       "    </tr>\n",
       "    <tr>\n",
       "      <th>7</th>\n",
       "      <td>62.5</td>\n",
       "      <td>38.6</td>\n",
       "      <td>79.0</td>\n",
       "    </tr>\n",
       "    <tr>\n",
       "      <th>8</th>\n",
       "      <td>59.0</td>\n",
       "      <td>42.4</td>\n",
       "      <td>80.0</td>\n",
       "    </tr>\n",
       "    <tr>\n",
       "      <th>9</th>\n",
       "      <td>62.1</td>\n",
       "      <td>43.0</td>\n",
       "      <td>80.2</td>\n",
       "    </tr>\n",
       "    <tr>\n",
       "      <th>10</th>\n",
       "      <td>59.5</td>\n",
       "      <td>40.5</td>\n",
       "      <td>79.1</td>\n",
       "    </tr>\n",
       "    <tr>\n",
       "      <th>11</th>\n",
       "      <td>55.1</td>\n",
       "      <td>35.7</td>\n",
       "      <td>80.8</td>\n",
       "    </tr>\n",
       "    <tr>\n",
       "      <th>12</th>\n",
       "      <td>56.8</td>\n",
       "      <td>34.6</td>\n",
       "      <td>79.2</td>\n",
       "    </tr>\n",
       "    <tr>\n",
       "      <th>13</th>\n",
       "      <td>56.2</td>\n",
       "      <td>33.1</td>\n",
       "      <td>79.7</td>\n",
       "    </tr>\n",
       "    <tr>\n",
       "      <th>14</th>\n",
       "      <td>56.7</td>\n",
       "      <td>34.4</td>\n",
       "      <td>75.4</td>\n",
       "    </tr>\n",
       "    <tr>\n",
       "      <th>15</th>\n",
       "      <td>53.7</td>\n",
       "      <td>36.1</td>\n",
       "      <td>75.0</td>\n",
       "    </tr>\n",
       "    <tr>\n",
       "      <th>16</th>\n",
       "      <td>53.1</td>\n",
       "      <td>40.6</td>\n",
       "      <td>73.8</td>\n",
       "    </tr>\n",
       "    <tr>\n",
       "      <th>17</th>\n",
       "      <td>53.5</td>\n",
       "      <td>39.8</td>\n",
       "      <td>75.1</td>\n",
       "    </tr>\n",
       "    <tr>\n",
       "      <th>18</th>\n",
       "      <td>48.9</td>\n",
       "      <td>37.2</td>\n",
       "      <td>75.2</td>\n",
       "    </tr>\n",
       "    <tr>\n",
       "      <th>19</th>\n",
       "      <td>46.6</td>\n",
       "      <td>33.0</td>\n",
       "      <td>74.5</td>\n",
       "    </tr>\n",
       "    <tr>\n",
       "      <th>20</th>\n",
       "      <td>48.2</td>\n",
       "      <td>32.4</td>\n",
       "      <td>74.4</td>\n",
       "    </tr>\n",
       "    <tr>\n",
       "      <th>21</th>\n",
       "      <td>48.7</td>\n",
       "      <td>32.3</td>\n",
       "      <td>77.3</td>\n",
       "    </tr>\n",
       "    <tr>\n",
       "      <th>22</th>\n",
       "      <td>53.4</td>\n",
       "      <td>33.5</td>\n",
       "      <td>77.4</td>\n",
       "    </tr>\n",
       "    <tr>\n",
       "      <th>23</th>\n",
       "      <td>50.3</td>\n",
       "      <td>41.9</td>\n",
       "      <td>75.9</td>\n",
       "    </tr>\n",
       "    <tr>\n",
       "      <th>24</th>\n",
       "      <td>50.5</td>\n",
       "      <td>36.0</td>\n",
       "      <td>72.1</td>\n",
       "    </tr>\n",
       "    <tr>\n",
       "      <th>25</th>\n",
       "      <td>58.8</td>\n",
       "      <td>33.9</td>\n",
       "      <td>73.5</td>\n",
       "    </tr>\n",
       "    <tr>\n",
       "      <th>26</th>\n",
       "      <td>53.8</td>\n",
       "      <td>38.8</td>\n",
       "      <td>73.1</td>\n",
       "    </tr>\n",
       "    <tr>\n",
       "      <th>27</th>\n",
       "      <td>53.8</td>\n",
       "      <td>37.0</td>\n",
       "      <td>77.5</td>\n",
       "    </tr>\n",
       "    <tr>\n",
       "      <th>28</th>\n",
       "      <td>58.4</td>\n",
       "      <td>35.3</td>\n",
       "      <td>77.7</td>\n",
       "    </tr>\n",
       "    <tr>\n",
       "      <th>29</th>\n",
       "      <td>51.5</td>\n",
       "      <td>35.7</td>\n",
       "      <td>78.0</td>\n",
       "    </tr>\n",
       "  </tbody>\n",
       "</table>\n",
       "</div>"
      ],
      "text/plain": [
       "    Tokyo  Helsinki  Miami Beach\n",
       "0    59.1      29.6         74.6\n",
       "1    62.3      29.5         76.8\n",
       "2    64.1      35.1         77.4\n",
       "3    59.6      44.5         77.4\n",
       "4    57.0      45.5         77.2\n",
       "5    60.4      43.8         78.6\n",
       "6    64.0      36.0         78.8\n",
       "7    62.5      38.6         79.0\n",
       "8    59.0      42.4         80.0\n",
       "9    62.1      43.0         80.2\n",
       "10   59.5      40.5         79.1\n",
       "11   55.1      35.7         80.8\n",
       "12   56.8      34.6         79.2\n",
       "13   56.2      33.1         79.7\n",
       "14   56.7      34.4         75.4\n",
       "15   53.7      36.1         75.0\n",
       "16   53.1      40.6         73.8\n",
       "17   53.5      39.8         75.1\n",
       "18   48.9      37.2         75.2\n",
       "19   46.6      33.0         74.5\n",
       "20   48.2      32.4         74.4\n",
       "21   48.7      32.3         77.3\n",
       "22   53.4      33.5         77.4\n",
       "23   50.3      41.9         75.9\n",
       "24   50.5      36.0         72.1\n",
       "25   58.8      33.9         73.5\n",
       "26   53.8      38.8         73.1\n",
       "27   53.8      37.0         77.5\n",
       "28   58.4      35.3         77.7\n",
       "29   51.5      35.7         78.0"
      ]
     },
     "execution_count": 131,
     "metadata": {},
     "output_type": "execute_result"
    }
   ],
   "source": [
    "data"
   ]
  },
  {
   "cell_type": "code",
   "execution_count": 135,
   "metadata": {},
   "outputs": [
    {
     "data": {
      "text/plain": [
       "<Axes: title={'center': 'Průměrné teploty'}>"
      ]
     },
     "execution_count": 135,
     "metadata": {},
     "output_type": "execute_result"
    },
    {
     "data": {
      "image/png": "[encoded data removed]",
      "text/plain": [
       "<Figure size 640x480 with 1 Axes>"
      ]
     },
     "metadata": {},
     "output_type": "display_data"
    }
   ],
   "source": [
    "data.plot(kind=\"box\",title=\"Průměrné teploty\")  "
   ]
  }
 ],
 "metadata": {
  "kernelspec": {
   "display_name": "Python 3",
   "language": "python",
   "name": "python3"
  },
  "language_info": {
   "codemirror_mode": {
    "name": "ipython",
    "version": 3
   },
   "file_extension": ".py",
   "mimetype": "text/x-python",
   "name": "python",
   "nbconvert_exporter": "python",
   "pygments_lexer": "ipython3",
   "version": "3.11.0"
  },
  "orig_nbformat": 4
 },
 "nbformat": 4,
 "nbformat_minor": 2
}
